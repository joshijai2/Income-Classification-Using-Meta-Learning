{
 "cells": [
  {
   "cell_type": "markdown",
   "metadata": {
    "papermill": {
     "duration": 0.030339,
     "end_time": "2020-10-07T09:54:43.528825",
     "exception": false,
     "start_time": "2020-10-07T09:54:43.498486",
     "status": "completed"
    },
    "tags": []
   },
   "source": [
    "# Adult Census Income Classification using Meta Learning"
   ]
  },
  {
   "cell_type": "code",
   "execution_count": 1,
   "metadata": {
    "_cell_guid": "b1076dfc-b9ad-4769-8c92-a6c4dae69d19",
    "_uuid": "8f2839f25d086af736a60e9eeb907d3b93b6e0e5",
    "execution": {
     "iopub.execute_input": "2020-10-07T09:54:43.593109Z",
     "iopub.status.busy": "2020-10-07T09:54:43.592621Z",
     "iopub.status.idle": "2020-10-07T09:54:44.609525Z",
     "shell.execute_reply": "2020-10-07T09:54:44.609035Z"
    },
    "papermill": {
     "duration": 1.050938,
     "end_time": "2020-10-07T09:54:44.609610",
     "exception": false,
     "start_time": "2020-10-07T09:54:43.558672",
     "status": "completed"
    },
    "tags": []
   },
   "outputs": [],
   "source": [
    "#importing the required libraries\n",
    "import numpy as np\n",
    "import pandas as pd\n",
    "import matplotlib.pyplot as plt\n",
    "import seaborn as sns\n",
    "plt.style.use('ggplot')\n",
    "\n",
    "from imblearn.over_sampling import RandomOverSampler\n",
    "from sklearn.model_selection import train_test_split\n",
    "\n",
    "from numpy import mean, std"
   ]
  },
  {
   "cell_type": "code",
   "execution_count": 2,
   "metadata": {
    "_cell_guid": "79c7e3d0-c299-4dcb-8224-4455121ee9b0",
    "_uuid": "d629ff2d2480ee46fbb7e2d37f6b5fab8052498a",
    "execution": {
     "iopub.execute_input": "2020-10-07T09:54:44.677794Z",
     "iopub.status.busy": "2020-10-07T09:54:44.677170Z",
     "iopub.status.idle": "2020-10-07T09:54:44.778085Z",
     "shell.execute_reply": "2020-10-07T09:54:44.777638Z"
    },
    "papermill": {
     "duration": 0.138399,
     "end_time": "2020-10-07T09:54:44.778175",
     "exception": false,
     "start_time": "2020-10-07T09:54:44.639776",
     "status": "completed"
    },
    "tags": []
   },
   "outputs": [],
   "source": [
    "#reading the dataset and converting it to dataframe\n",
    "df = pd.read_csv(\"../input/adult-census-income/adult.csv\")"
   ]
  },
  {
   "cell_type": "code",
   "execution_count": 3,
   "metadata": {
    "execution": {
     "iopub.execute_input": "2020-10-07T09:54:44.849783Z",
     "iopub.status.busy": "2020-10-07T09:54:44.849300Z",
     "iopub.status.idle": "2020-10-07T09:54:44.860537Z",
     "shell.execute_reply": "2020-10-07T09:54:44.861039Z"
    },
    "papermill": {
     "duration": 0.053077,
     "end_time": "2020-10-07T09:54:44.861149",
     "exception": false,
     "start_time": "2020-10-07T09:54:44.808072",
     "status": "completed"
    },
    "tags": []
   },
   "outputs": [
    {
     "data": {
      "text/html": [
       "<div>\n",
       "<style scoped>\n",
       "    .dataframe tbody tr th:only-of-type {\n",
       "        vertical-align: middle;\n",
       "    }\n",
       "\n",
       "    .dataframe tbody tr th {\n",
       "        vertical-align: top;\n",
       "    }\n",
       "\n",
       "    .dataframe thead th {\n",
       "        text-align: right;\n",
       "    }\n",
       "</style>\n",
       "<table border=\"1\" class=\"dataframe\">\n",
       "  <thead>\n",
       "    <tr style=\"text-align: right;\">\n",
       "      <th></th>\n",
       "      <th>age</th>\n",
       "      <th>workclass</th>\n",
       "      <th>fnlwgt</th>\n",
       "      <th>education</th>\n",
       "      <th>education.num</th>\n",
       "      <th>marital.status</th>\n",
       "      <th>occupation</th>\n",
       "      <th>relationship</th>\n",
       "      <th>race</th>\n",
       "      <th>sex</th>\n",
       "      <th>capital.gain</th>\n",
       "      <th>capital.loss</th>\n",
       "      <th>hours.per.week</th>\n",
       "      <th>native.country</th>\n",
       "      <th>income</th>\n",
       "    </tr>\n",
       "  </thead>\n",
       "  <tbody>\n",
       "    <tr>\n",
       "      <th>0</th>\n",
       "      <td>90</td>\n",
       "      <td>?</td>\n",
       "      <td>77053</td>\n",
       "      <td>HS-grad</td>\n",
       "      <td>9</td>\n",
       "      <td>Widowed</td>\n",
       "      <td>?</td>\n",
       "      <td>Not-in-family</td>\n",
       "      <td>White</td>\n",
       "      <td>Female</td>\n",
       "      <td>0</td>\n",
       "      <td>4356</td>\n",
       "      <td>40</td>\n",
       "      <td>United-States</td>\n",
       "      <td>&lt;=50K</td>\n",
       "    </tr>\n",
       "    <tr>\n",
       "      <th>1</th>\n",
       "      <td>82</td>\n",
       "      <td>Private</td>\n",
       "      <td>132870</td>\n",
       "      <td>HS-grad</td>\n",
       "      <td>9</td>\n",
       "      <td>Widowed</td>\n",
       "      <td>Exec-managerial</td>\n",
       "      <td>Not-in-family</td>\n",
       "      <td>White</td>\n",
       "      <td>Female</td>\n",
       "      <td>0</td>\n",
       "      <td>4356</td>\n",
       "      <td>18</td>\n",
       "      <td>United-States</td>\n",
       "      <td>&lt;=50K</td>\n",
       "    </tr>\n",
       "    <tr>\n",
       "      <th>2</th>\n",
       "      <td>66</td>\n",
       "      <td>?</td>\n",
       "      <td>186061</td>\n",
       "      <td>Some-college</td>\n",
       "      <td>10</td>\n",
       "      <td>Widowed</td>\n",
       "      <td>?</td>\n",
       "      <td>Unmarried</td>\n",
       "      <td>Black</td>\n",
       "      <td>Female</td>\n",
       "      <td>0</td>\n",
       "      <td>4356</td>\n",
       "      <td>40</td>\n",
       "      <td>United-States</td>\n",
       "      <td>&lt;=50K</td>\n",
       "    </tr>\n",
       "    <tr>\n",
       "      <th>3</th>\n",
       "      <td>54</td>\n",
       "      <td>Private</td>\n",
       "      <td>140359</td>\n",
       "      <td>7th-8th</td>\n",
       "      <td>4</td>\n",
       "      <td>Divorced</td>\n",
       "      <td>Machine-op-inspct</td>\n",
       "      <td>Unmarried</td>\n",
       "      <td>White</td>\n",
       "      <td>Female</td>\n",
       "      <td>0</td>\n",
       "      <td>3900</td>\n",
       "      <td>40</td>\n",
       "      <td>United-States</td>\n",
       "      <td>&lt;=50K</td>\n",
       "    </tr>\n",
       "    <tr>\n",
       "      <th>4</th>\n",
       "      <td>41</td>\n",
       "      <td>Private</td>\n",
       "      <td>264663</td>\n",
       "      <td>Some-college</td>\n",
       "      <td>10</td>\n",
       "      <td>Separated</td>\n",
       "      <td>Prof-specialty</td>\n",
       "      <td>Own-child</td>\n",
       "      <td>White</td>\n",
       "      <td>Female</td>\n",
       "      <td>0</td>\n",
       "      <td>3900</td>\n",
       "      <td>40</td>\n",
       "      <td>United-States</td>\n",
       "      <td>&lt;=50K</td>\n",
       "    </tr>\n",
       "  </tbody>\n",
       "</table>\n",
       "</div>"
      ],
      "text/plain": [
       "   age workclass  fnlwgt     education  education.num marital.status  \\\n",
       "0   90         ?   77053       HS-grad              9        Widowed   \n",
       "1   82   Private  132870       HS-grad              9        Widowed   \n",
       "2   66         ?  186061  Some-college             10        Widowed   \n",
       "3   54   Private  140359       7th-8th              4       Divorced   \n",
       "4   41   Private  264663  Some-college             10      Separated   \n",
       "\n",
       "          occupation   relationship   race     sex  capital.gain  \\\n",
       "0                  ?  Not-in-family  White  Female             0   \n",
       "1    Exec-managerial  Not-in-family  White  Female             0   \n",
       "2                  ?      Unmarried  Black  Female             0   \n",
       "3  Machine-op-inspct      Unmarried  White  Female             0   \n",
       "4     Prof-specialty      Own-child  White  Female             0   \n",
       "\n",
       "   capital.loss  hours.per.week native.country income  \n",
       "0          4356              40  United-States  <=50K  \n",
       "1          4356              18  United-States  <=50K  \n",
       "2          4356              40  United-States  <=50K  \n",
       "3          3900              40  United-States  <=50K  \n",
       "4          3900              40  United-States  <=50K  "
      ]
     },
     "execution_count": 3,
     "metadata": {},
     "output_type": "execute_result"
    }
   ],
   "source": [
    "#Viewing the top 5 rows of our dataset\n",
    "df.head()"
   ]
  },
  {
   "cell_type": "markdown",
   "metadata": {
    "papermill": {
     "duration": 0.045393,
     "end_time": "2020-10-07T09:54:44.952626",
     "exception": false,
     "start_time": "2020-10-07T09:54:44.907233",
     "status": "completed"
    },
    "tags": []
   },
   "source": [
    "## Exploratory Data Analysis"
   ]
  },
  {
   "cell_type": "markdown",
   "metadata": {
    "papermill": {
     "duration": 0.045685,
     "end_time": "2020-10-07T09:54:45.043666",
     "exception": false,
     "start_time": "2020-10-07T09:54:44.997981",
     "status": "completed"
    },
    "tags": []
   },
   "source": [
    "**Income - Target column**"
   ]
  },
  {
   "cell_type": "code",
   "execution_count": 4,
   "metadata": {
    "execution": {
     "iopub.execute_input": "2020-10-07T09:54:45.141743Z",
     "iopub.status.busy": "2020-10-07T09:54:45.141271Z",
     "iopub.status.idle": "2020-10-07T09:54:45.296267Z",
     "shell.execute_reply": "2020-10-07T09:54:45.295730Z"
    },
    "papermill": {
     "duration": 0.207081,
     "end_time": "2020-10-07T09:54:45.296351",
     "exception": false,
     "start_time": "2020-10-07T09:54:45.089270",
     "status": "completed"
    },
    "tags": []
   },
   "outputs": [
    {
     "data": {
      "text/plain": [
       "<matplotlib.axes._subplots.AxesSubplot at 0x7f263a99f3d0>"
      ]
     },
     "execution_count": 4,
     "metadata": {},
     "output_type": "execute_result"
    },
    {
     "data": {
      "image/png": "[encoded data removed]",
      "text/plain": [
       "<Figure size 432x288 with 1 Axes>"
      ]
     },
     "metadata": {},
     "output_type": "display_data"
    }
   ],
   "source": [
    "sns.countplot(df.income)"
   ]
  },
  {
   "cell_type": "markdown",
   "metadata": {
    "papermill": {
     "duration": 0.030915,
     "end_time": "2020-10-07T09:54:45.358948",
     "exception": false,
     "start_time": "2020-10-07T09:54:45.328033",
     "status": "completed"
    },
    "tags": []
   },
   "source": [
    "*As we can see, there is a **class imbalance**. The \">50K\" class is comparatively very less. So, we will do **Random Over-Sampling** during preprocessing.*\n"
   ]
  },
  {
   "cell_type": "markdown",
   "metadata": {
    "papermill": {
     "duration": 0.030195,
     "end_time": "2020-10-07T09:54:45.420258",
     "exception": false,
     "start_time": "2020-10-07T09:54:45.390063",
     "status": "completed"
    },
    "tags": []
   },
   "source": [
    "**Age**"
   ]
  },
  {
   "cell_type": "code",
   "execution_count": 5,
   "metadata": {
    "execution": {
     "iopub.execute_input": "2020-10-07T09:54:45.492433Z",
     "iopub.status.busy": "2020-10-07T09:54:45.491981Z",
     "iopub.status.idle": "2020-10-07T09:54:45.910531Z",
     "shell.execute_reply": "2020-10-07T09:54:45.909999Z"
    },
    "papermill": {
     "duration": 0.458848,
     "end_time": "2020-10-07T09:54:45.910610",
     "exception": false,
     "start_time": "2020-10-07T09:54:45.451762",
     "status": "completed"
    },
    "tags": []
   },
   "outputs": [
    {
     "data": {
      "text/plain": [
       "<matplotlib.axes._subplots.AxesSubplot at 0x7f263a99fb50>"
      ]
     },
     "execution_count": 5,
     "metadata": {},
     "output_type": "execute_result"
    },
    {
     "data": {
      "image/png": "[encoded data removed]",
      "text/plain": [
       "<Figure size 432x288 with 1 Axes>"
      ]
     },
     "metadata": {},
     "output_type": "display_data"
    }
   ],
   "source": [
    "sns.distplot(df[df.income=='<=50K'].age, color='g')\n",
    "sns.distplot(df[df.income=='>50K'].age, color='r')"
   ]
  },
  {
   "cell_type": "markdown",
   "metadata": {
    "papermill": {
     "duration": 0.031694,
     "end_time": "2020-10-07T09:54:45.974524",
     "exception": false,
     "start_time": "2020-10-07T09:54:45.942830",
     "status": "completed"
    },
    "tags": []
   },
   "source": [
    "*We can observe a rough margin **around 30**. We will divide age into 2 parts ie. under 30 and over 30. We need to check if its useful for our model during testing.*"
   ]
  },
  {
   "cell_type": "markdown",
   "metadata": {
    "papermill": {
     "duration": 0.031256,
     "end_time": "2020-10-07T09:54:46.037013",
     "exception": false,
     "start_time": "2020-10-07T09:54:46.005757",
     "status": "completed"
    },
    "tags": []
   },
   "source": [
    "**Workclass**"
   ]
  },
  {
   "cell_type": "code",
   "execution_count": 6,
   "metadata": {
    "execution": {
     "iopub.execute_input": "2020-10-07T09:54:46.115183Z",
     "iopub.status.busy": "2020-10-07T09:54:46.111051Z",
     "iopub.status.idle": "2020-10-07T09:54:46.331016Z",
     "shell.execute_reply": "2020-10-07T09:54:46.331399Z"
    },
    "papermill": {
     "duration": 0.263026,
     "end_time": "2020-10-07T09:54:46.331505",
     "exception": false,
     "start_time": "2020-10-07T09:54:46.068479",
     "status": "completed"
    },
    "tags": []
   },
   "outputs": [
    {
     "data": {
      "text/plain": [
       "<matplotlib.axes._subplots.AxesSubplot at 0x7f26231ca310>"
      ]
     },
     "execution_count": 6,
     "metadata": {},
     "output_type": "execute_result"
    },
    {
     "data": {
      "image/png": "[encoded data removed]",
      "text/plain": [
       "<Figure size 432x288 with 1 Axes>"
      ]
     },
     "metadata": {},
     "output_type": "display_data"
    }
   ],
   "source": [
    "plt.xticks(rotation=90)\n",
    "sns.countplot(df.workclass, hue=df.income, palette='tab10')"
   ]
  },
  {
   "cell_type": "markdown",
   "metadata": {
    "papermill": {
     "duration": 0.032196,
     "end_time": "2020-10-07T09:54:46.396243",
     "exception": false,
     "start_time": "2020-10-07T09:54:46.364047",
     "status": "completed"
    },
    "tags": []
   },
   "source": [
    "*Majority of the data falls under **Private**. So, we will convert this into Private and not-Private.*"
   ]
  },
  {
   "cell_type": "markdown",
   "metadata": {
    "papermill": {
     "duration": 0.032296,
     "end_time": "2020-10-07T09:54:46.461605",
     "exception": false,
     "start_time": "2020-10-07T09:54:46.429309",
     "status": "completed"
    },
    "tags": []
   },
   "source": [
    "**fnlwgt**"
   ]
  },
  {
   "cell_type": "code",
   "execution_count": 7,
   "metadata": {
    "execution": {
     "iopub.execute_input": "2020-10-07T09:54:46.536084Z",
     "iopub.status.busy": "2020-10-07T09:54:46.535608Z",
     "iopub.status.idle": "2020-10-07T09:54:46.870565Z",
     "shell.execute_reply": "2020-10-07T09:54:46.870121Z"
    },
    "papermill": {
     "duration": 0.376703,
     "end_time": "2020-10-07T09:54:46.870646",
     "exception": false,
     "start_time": "2020-10-07T09:54:46.493943",
     "status": "completed"
    },
    "tags": []
   },
   "outputs": [
    {
     "data": {
      "text/plain": [
       "<matplotlib.axes._subplots.AxesSubplot at 0x7f26230f4110>"
      ]
     },
     "execution_count": 7,
     "metadata": {},
     "output_type": "execute_result"
    },
    {
     "data": {
      "image/png": "[encoded data removed]",
      "text/plain": [
       "<Figure size 432x288 with 1 Axes>"
      ]
     },
     "metadata": {},
     "output_type": "display_data"
    }
   ],
   "source": [
    "sns.distplot(df[df.income=='<=50K'].fnlwgt, color='r')\n",
    "sns.distplot(df[df.income=='>50K'].fnlwgt, color='g')"
   ]
  },
  {
   "cell_type": "markdown",
   "metadata": {
    "papermill": {
     "duration": 0.033131,
     "end_time": "2020-10-07T09:54:46.938150",
     "exception": false,
     "start_time": "2020-10-07T09:54:46.905019",
     "status": "completed"
    },
    "tags": []
   },
   "source": [
    "*This is a very **ambiguous** attribute. Will check during testing.*"
   ]
  },
  {
   "cell_type": "markdown",
   "metadata": {
    "papermill": {
     "duration": 0.034745,
     "end_time": "2020-10-07T09:54:47.006755",
     "exception": false,
     "start_time": "2020-10-07T09:54:46.972010",
     "status": "completed"
    },
    "tags": []
   },
   "source": [
    "**Education**"
   ]
  },
  {
   "cell_type": "code",
   "execution_count": 8,
   "metadata": {
    "execution": {
     "iopub.execute_input": "2020-10-07T09:54:47.094382Z",
     "iopub.status.busy": "2020-10-07T09:54:47.091014Z",
     "iopub.status.idle": "2020-10-07T09:54:47.292940Z",
     "shell.execute_reply": "2020-10-07T09:54:47.292474Z"
    },
    "papermill": {
     "duration": 0.251189,
     "end_time": "2020-10-07T09:54:47.293017",
     "exception": false,
     "start_time": "2020-10-07T09:54:47.041828",
     "status": "completed"
    },
    "tags": []
   },
   "outputs": [
    {
     "data": {
      "text/plain": [
       "<matplotlib.axes._subplots.AxesSubplot at 0x7f2622f78450>"
      ]
     },
     "execution_count": 8,
     "metadata": {},
     "output_type": "execute_result"
    },
    {
     "data": {
      "image/png": "[encoded data removed]",
      "text/plain": [
       "<Figure size 432x288 with 1 Axes>"
      ]
     },
     "metadata": {},
     "output_type": "display_data"
    }
   ],
   "source": [
    "plt.xticks(rotation=90)\n",
    "sns.countplot(df.education, hue=df.income, palette='muted')"
   ]
  },
  {
   "cell_type": "markdown",
   "metadata": {
    "papermill": {
     "duration": 0.036959,
     "end_time": "2020-10-07T09:54:47.364986",
     "exception": false,
     "start_time": "2020-10-07T09:54:47.328027",
     "status": "completed"
    },
    "tags": []
   },
   "source": [
    "**education.num**"
   ]
  },
  {
   "cell_type": "code",
   "execution_count": 9,
   "metadata": {
    "execution": {
     "iopub.execute_input": "2020-10-07T09:54:47.439920Z",
     "iopub.status.busy": "2020-10-07T09:54:47.439094Z",
     "iopub.status.idle": "2020-10-07T09:54:47.629506Z",
     "shell.execute_reply": "2020-10-07T09:54:47.629011Z"
    },
    "papermill": {
     "duration": 0.229855,
     "end_time": "2020-10-07T09:54:47.629606",
     "exception": false,
     "start_time": "2020-10-07T09:54:47.399751",
     "status": "completed"
    },
    "tags": []
   },
   "outputs": [
    {
     "data": {
      "text/plain": [
       "<matplotlib.axes._subplots.AxesSubplot at 0x7f2622e2b350>"
      ]
     },
     "execution_count": 9,
     "metadata": {},
     "output_type": "execute_result"
    },
    {
     "data": {
      "image/png": "[encoded data removed]",
      "text/plain": [
       "<Figure size 432x288 with 1 Axes>"
      ]
     },
     "metadata": {},
     "output_type": "display_data"
    }
   ],
   "source": [
    "sns.countplot(df[\"education.num\"], hue=df.income)"
   ]
  },
  {
   "cell_type": "markdown",
   "metadata": {
    "papermill": {
     "duration": 0.052371,
     "end_time": "2020-10-07T09:54:47.734687",
     "exception": false,
     "start_time": "2020-10-07T09:54:47.682316",
     "status": "completed"
    },
    "tags": []
   },
   "source": [
    "**marital.status**"
   ]
  },
  {
   "cell_type": "code",
   "execution_count": 10,
   "metadata": {
    "execution": {
     "iopub.execute_input": "2020-10-07T09:54:47.852176Z",
     "iopub.status.busy": "2020-10-07T09:54:47.844274Z",
     "iopub.status.idle": "2020-10-07T09:54:47.998851Z",
     "shell.execute_reply": "2020-10-07T09:54:47.998450Z"
    },
    "papermill": {
     "duration": 0.212105,
     "end_time": "2020-10-07T09:54:47.998933",
     "exception": false,
     "start_time": "2020-10-07T09:54:47.786828",
     "status": "completed"
    },
    "tags": []
   },
   "outputs": [
    {
     "data": {
      "text/plain": [
       "<matplotlib.axes._subplots.AxesSubplot at 0x7f2622d10690>"
      ]
     },
     "execution_count": 10,
     "metadata": {},
     "output_type": "execute_result"
    },
    {
     "data": {
      "image/png": "[encoded data removed]",
      "text/plain": [
       "<Figure size 432x288 with 1 Axes>"
      ]
     },
     "metadata": {},
     "output_type": "display_data"
    }
   ],
   "source": [
    "plt.xticks(rotation=90)\n",
    "sns.countplot(df['marital.status'], hue=df.income)"
   ]
  },
  {
   "cell_type": "markdown",
   "metadata": {
    "papermill": {
     "duration": 0.036523,
     "end_time": "2020-10-07T09:54:48.072803",
     "exception": false,
     "start_time": "2020-10-07T09:54:48.036280",
     "status": "completed"
    },
    "tags": []
   },
   "source": [
    "*We observe that the majority of \">50K\" class is **Married-civ-spouse**. So we ll make it 1 and others 0*"
   ]
  },
  {
   "cell_type": "markdown",
   "metadata": {
    "papermill": {
     "duration": 0.037761,
     "end_time": "2020-10-07T09:54:48.148012",
     "exception": false,
     "start_time": "2020-10-07T09:54:48.110251",
     "status": "completed"
    },
    "tags": []
   },
   "source": [
    "**occupation**"
   ]
  },
  {
   "cell_type": "code",
   "execution_count": 11,
   "metadata": {
    "execution": {
     "iopub.execute_input": "2020-10-07T09:54:48.262445Z",
     "iopub.status.busy": "2020-10-07T09:54:48.253183Z",
     "iopub.status.idle": "2020-10-07T09:54:48.473631Z",
     "shell.execute_reply": "2020-10-07T09:54:48.473068Z"
    },
    "papermill": {
     "duration": 0.288958,
     "end_time": "2020-10-07T09:54:48.473772",
     "exception": false,
     "start_time": "2020-10-07T09:54:48.184814",
     "status": "completed"
    },
    "tags": []
   },
   "outputs": [
    {
     "data": {
      "text/plain": [
       "<matplotlib.axes._subplots.AxesSubplot at 0x7f2622c92850>"
      ]
     },
     "execution_count": 11,
     "metadata": {},
     "output_type": "execute_result"
    },
    {
     "data": {
      "image/png": "[encoded data removed]",
      "text/plain": [
       "<Figure size 432x288 with 1 Axes>"
      ]
     },
     "metadata": {},
     "output_type": "display_data"
    }
   ],
   "source": [
    "plt.xticks(rotation=90)\n",
    "sns.countplot(df.occupation, hue=df.income, palette='rocket')"
   ]
  },
  {
   "cell_type": "markdown",
   "metadata": {
    "papermill": {
     "duration": 0.059331,
     "end_time": "2020-10-07T09:54:48.592967",
     "exception": false,
     "start_time": "2020-10-07T09:54:48.533636",
     "status": "completed"
    },
    "tags": []
   },
   "source": [
    "**relationship**"
   ]
  },
  {
   "cell_type": "code",
   "execution_count": 12,
   "metadata": {
    "execution": {
     "iopub.execute_input": "2020-10-07T09:54:48.707670Z",
     "iopub.status.busy": "2020-10-07T09:54:48.707100Z",
     "iopub.status.idle": "2020-10-07T09:54:48.862903Z",
     "shell.execute_reply": "2020-10-07T09:54:48.862518Z"
    },
    "papermill": {
     "duration": 0.214915,
     "end_time": "2020-10-07T09:54:48.862981",
     "exception": false,
     "start_time": "2020-10-07T09:54:48.648066",
     "status": "completed"
    },
    "tags": []
   },
   "outputs": [
    {
     "data": {
      "text/plain": [
       "<matplotlib.axes._subplots.AxesSubplot at 0x7f2622c51b10>"
      ]
     },
     "execution_count": 12,
     "metadata": {},
     "output_type": "execute_result"
    },
    {
     "data": {
      "image/png": "[encoded data removed]",
      "text/plain": [
       "<Figure size 432x288 with 1 Axes>"
      ]
     },
     "metadata": {},
     "output_type": "display_data"
    }
   ],
   "source": [
    "plt.xticks(rotation=90)\n",
    "sns.countplot(df.relationship, hue=df.income, palette='muted')"
   ]
  },
  {
   "cell_type": "markdown",
   "metadata": {
    "papermill": {
     "duration": 0.037894,
     "end_time": "2020-10-07T09:54:48.939523",
     "exception": false,
     "start_time": "2020-10-07T09:54:48.901629",
     "status": "completed"
    },
    "tags": []
   },
   "source": [
    "**race**"
   ]
  },
  {
   "cell_type": "code",
   "execution_count": 13,
   "metadata": {
    "execution": {
     "iopub.execute_input": "2020-10-07T09:54:49.027655Z",
     "iopub.status.busy": "2020-10-07T09:54:49.019802Z",
     "iopub.status.idle": "2020-10-07T09:54:49.158812Z",
     "shell.execute_reply": "2020-10-07T09:54:49.158372Z"
    },
    "papermill": {
     "duration": 0.181189,
     "end_time": "2020-10-07T09:54:49.158879",
     "exception": false,
     "start_time": "2020-10-07T09:54:48.977690",
     "status": "completed"
    },
    "tags": []
   },
   "outputs": [
    {
     "data": {
      "text/plain": [
       "<matplotlib.axes._subplots.AxesSubplot at 0x7f2622b13150>"
      ]
     },
     "execution_count": 13,
     "metadata": {},
     "output_type": "execute_result"
    },
    {
     "data": {
      "image/png": "[encoded data removed]",
      "text/plain": [
       "<Figure size 432x288 with 1 Axes>"
      ]
     },
     "metadata": {},
     "output_type": "display_data"
    }
   ],
   "source": [
    "plt.xticks(rotation=90)\n",
    "sns.countplot(df.race, hue=df.income, palette='Set2')"
   ]
  },
  {
   "cell_type": "markdown",
   "metadata": {
    "papermill": {
     "duration": 0.039254,
     "end_time": "2020-10-07T09:54:49.237171",
     "exception": false,
     "start_time": "2020-10-07T09:54:49.197917",
     "status": "completed"
    },
    "tags": []
   },
   "source": [
    "**sex**"
   ]
  },
  {
   "cell_type": "code",
   "execution_count": 14,
   "metadata": {
    "execution": {
     "iopub.execute_input": "2020-10-07T09:54:49.327626Z",
     "iopub.status.busy": "2020-10-07T09:54:49.326531Z",
     "iopub.status.idle": "2020-10-07T09:54:49.437112Z",
     "shell.execute_reply": "2020-10-07T09:54:49.436754Z"
    },
    "papermill": {
     "duration": 0.160865,
     "end_time": "2020-10-07T09:54:49.437190",
     "exception": false,
     "start_time": "2020-10-07T09:54:49.276325",
     "status": "completed"
    },
    "tags": []
   },
   "outputs": [
    {
     "data": {
      "text/plain": [
       "<matplotlib.axes._subplots.AxesSubplot at 0x7f2622aa5d50>"
      ]
     },
     "execution_count": 14,
     "metadata": {},
     "output_type": "execute_result"
    },
    {
     "data": {
      "image/png": "[encoded data removed]",
      "text/plain": [
       "<Figure size 432x288 with 1 Axes>"
      ]
     },
     "metadata": {},
     "output_type": "display_data"
    }
   ],
   "source": [
    "plt.xticks(rotation=90)\n",
    "sns.countplot(df.sex, hue=df.income)"
   ]
  },
  {
   "cell_type": "markdown",
   "metadata": {
    "papermill": {
     "duration": 0.040276,
     "end_time": "2020-10-07T09:54:49.517561",
     "exception": false,
     "start_time": "2020-10-07T09:54:49.477285",
     "status": "completed"
    },
    "tags": []
   },
   "source": [
    "**capital.gain**"
   ]
  },
  {
   "cell_type": "code",
   "execution_count": 15,
   "metadata": {
    "execution": {
     "iopub.execute_input": "2020-10-07T09:54:49.607435Z",
     "iopub.status.busy": "2020-10-07T09:54:49.607018Z",
     "iopub.status.idle": "2020-10-07T09:54:49.612400Z",
     "shell.execute_reply": "2020-10-07T09:54:49.612049Z"
    },
    "papermill": {
     "duration": 0.054938,
     "end_time": "2020-10-07T09:54:49.612474",
     "exception": false,
     "start_time": "2020-10-07T09:54:49.557536",
     "status": "completed"
    },
    "tags": []
   },
   "outputs": [
    {
     "data": {
      "text/plain": [
       "0        29849\n",
       "15024      347\n",
       "7688       284\n",
       "7298       246\n",
       "99999      159\n",
       "         ...  \n",
       "4931         1\n",
       "1455         1\n",
       "6097         1\n",
       "22040        1\n",
       "1111         1\n",
       "Name: capital.gain, Length: 119, dtype: int64"
      ]
     },
     "execution_count": 15,
     "metadata": {},
     "output_type": "execute_result"
    }
   ],
   "source": [
    "df['capital.gain'].value_counts()"
   ]
  },
  {
   "cell_type": "markdown",
   "metadata": {
    "papermill": {
     "duration": 0.042031,
     "end_time": "2020-10-07T09:54:49.695988",
     "exception": false,
     "start_time": "2020-10-07T09:54:49.653957",
     "status": "completed"
    },
    "tags": []
   },
   "source": [
    "**capital.loss**"
   ]
  },
  {
   "cell_type": "code",
   "execution_count": 16,
   "metadata": {
    "execution": {
     "iopub.execute_input": "2020-10-07T09:54:49.782796Z",
     "iopub.status.busy": "2020-10-07T09:54:49.782341Z",
     "iopub.status.idle": "2020-10-07T09:54:49.787380Z",
     "shell.execute_reply": "2020-10-07T09:54:49.786943Z"
    },
    "papermill": {
     "duration": 0.049462,
     "end_time": "2020-10-07T09:54:49.787453",
     "exception": false,
     "start_time": "2020-10-07T09:54:49.737991",
     "status": "completed"
    },
    "tags": []
   },
   "outputs": [
    {
     "data": {
      "text/plain": [
       "0       31042\n",
       "1902      202\n",
       "1977      168\n",
       "1887      159\n",
       "1848       51\n",
       "        ...  \n",
       "1411        1\n",
       "1539        1\n",
       "2472        1\n",
       "1944        1\n",
       "2201        1\n",
       "Name: capital.loss, Length: 92, dtype: int64"
      ]
     },
     "execution_count": 16,
     "metadata": {},
     "output_type": "execute_result"
    }
   ],
   "source": [
    "df['capital.loss'].value_counts()"
   ]
  },
  {
   "cell_type": "markdown",
   "metadata": {
    "papermill": {
     "duration": 0.07232,
     "end_time": "2020-10-07T09:54:49.902079",
     "exception": false,
     "start_time": "2020-10-07T09:54:49.829759",
     "status": "completed"
    },
    "tags": []
   },
   "source": [
    "**hours.per.week**"
   ]
  },
  {
   "cell_type": "code",
   "execution_count": 17,
   "metadata": {
    "execution": {
     "iopub.execute_input": "2020-10-07T09:54:49.990116Z",
     "iopub.status.busy": "2020-10-07T09:54:49.989666Z",
     "iopub.status.idle": "2020-10-07T09:54:50.301169Z",
     "shell.execute_reply": "2020-10-07T09:54:50.300569Z"
    },
    "papermill": {
     "duration": 0.358083,
     "end_time": "2020-10-07T09:54:50.301255",
     "exception": false,
     "start_time": "2020-10-07T09:54:49.943172",
     "status": "completed"
    },
    "tags": []
   },
   "outputs": [
    {
     "data": {
      "text/plain": [
       "<matplotlib.axes._subplots.AxesSubplot at 0x7f2622a8a7d0>"
      ]
     },
     "execution_count": 17,
     "metadata": {},
     "output_type": "execute_result"
    },
    {
     "data": {
      "image/png": "[encoded data removed]",
      "text/plain": [
       "<Figure size 432x288 with 1 Axes>"
      ]
     },
     "metadata": {},
     "output_type": "display_data"
    }
   ],
   "source": [
    "sns.distplot(df[df.income=='<=50K']['hours.per.week'], color='b')\n",
    "sns.distplot(df[df.income=='>50K']['hours.per.week'], color='r')"
   ]
  },
  {
   "cell_type": "markdown",
   "metadata": {
    "papermill": {
     "duration": 0.062598,
     "end_time": "2020-10-07T09:54:50.425594",
     "exception": false,
     "start_time": "2020-10-07T09:54:50.362996",
     "status": "completed"
    },
    "tags": []
   },
   "source": [
    "**native.country**"
   ]
  },
  {
   "cell_type": "code",
   "execution_count": 18,
   "metadata": {
    "execution": {
     "iopub.execute_input": "2020-10-07T09:54:50.558589Z",
     "iopub.status.busy": "2020-10-07T09:54:50.557914Z",
     "iopub.status.idle": "2020-10-07T09:54:50.561890Z",
     "shell.execute_reply": "2020-10-07T09:54:50.561410Z"
    },
    "papermill": {
     "duration": 0.073972,
     "end_time": "2020-10-07T09:54:50.561982",
     "exception": false,
     "start_time": "2020-10-07T09:54:50.488010",
     "status": "completed"
    },
    "tags": []
   },
   "outputs": [
    {
     "data": {
      "text/plain": [
       "United-States                 29170\n",
       "Mexico                          643\n",
       "?                               583\n",
       "Philippines                     198\n",
       "Germany                         137\n",
       "Canada                          121\n",
       "Puerto-Rico                     114\n",
       "El-Salvador                     106\n",
       "India                           100\n",
       "Cuba                             95\n",
       "England                          90\n",
       "Jamaica                          81\n",
       "South                            80\n",
       "China                            75\n",
       "Italy                            73\n",
       "Dominican-Republic               70\n",
       "Vietnam                          67\n",
       "Guatemala                        64\n",
       "Japan                            62\n",
       "Poland                           60\n",
       "Columbia                         59\n",
       "Taiwan                           51\n",
       "Haiti                            44\n",
       "Iran                             43\n",
       "Portugal                         37\n",
       "Nicaragua                        34\n",
       "Peru                             31\n",
       "France                           29\n",
       "Greece                           29\n",
       "Ecuador                          28\n",
       "Ireland                          24\n",
       "Hong                             20\n",
       "Cambodia                         19\n",
       "Trinadad&Tobago                  19\n",
       "Thailand                         18\n",
       "Laos                             18\n",
       "Yugoslavia                       16\n",
       "Outlying-US(Guam-USVI-etc)       14\n",
       "Hungary                          13\n",
       "Honduras                         13\n",
       "Scotland                         12\n",
       "Holand-Netherlands                1\n",
       "Name: native.country, dtype: int64"
      ]
     },
     "execution_count": 18,
     "metadata": {},
     "output_type": "execute_result"
    }
   ],
   "source": [
    "df['native.country'].value_counts()"
   ]
  },
  {
   "cell_type": "markdown",
   "metadata": {
    "papermill": {
     "duration": 0.061716,
     "end_time": "2020-10-07T09:54:50.687169",
     "exception": false,
     "start_time": "2020-10-07T09:54:50.625453",
     "status": "completed"
    },
    "tags": []
   },
   "source": [
    "## Preprocessing"
   ]
  },
  {
   "cell_type": "markdown",
   "metadata": {
    "papermill": {
     "duration": 0.062169,
     "end_time": "2020-10-07T09:54:50.814167",
     "exception": false,
     "start_time": "2020-10-07T09:54:50.751998",
     "status": "completed"
    },
    "tags": []
   },
   "source": [
    "### Finding and Handling Missing Data\n",
    "\n",
    "*Observing the dataset, I found that the null values are marked as \"?\", So, we will now convert them to numpy.nan(null values).*"
   ]
  },
  {
   "cell_type": "code",
   "execution_count": 19,
   "metadata": {
    "execution": {
     "iopub.execute_input": "2020-10-07T09:54:50.947396Z",
     "iopub.status.busy": "2020-10-07T09:54:50.946808Z",
     "iopub.status.idle": "2020-10-07T09:54:51.054705Z",
     "shell.execute_reply": "2020-10-07T09:54:51.054276Z"
    },
    "papermill": {
     "duration": 0.175695,
     "end_time": "2020-10-07T09:54:51.054811",
     "exception": false,
     "start_time": "2020-10-07T09:54:50.879116",
     "status": "completed"
    },
    "tags": []
   },
   "outputs": [
    {
     "name": "stdout",
     "output_type": "stream",
     "text": [
      "Missing values detected.\n",
      "\n",
      "workclass         1836\n",
      "occupation        1843\n",
      "native.country     583\n",
      "dtype: int64\n"
     ]
    }
   ],
   "source": [
    "df[df.select_dtypes(\"object\") ==\"?\"] = np.nan\n",
    "nans = df.isnull().sum()\n",
    "if len(nans[nans>0]):\n",
    "    print(\"Missing values detected.\\n\")\n",
    "    print(nans[nans>0])\n",
    "else:\n",
    "    print(\"No missing values. You are good to go.\")"
   ]
  },
  {
   "cell_type": "code",
   "execution_count": 20,
   "metadata": {
    "execution": {
     "iopub.execute_input": "2020-10-07T09:54:51.155291Z",
     "iopub.status.busy": "2020-10-07T09:54:51.151973Z",
     "iopub.status.idle": "2020-10-07T09:54:51.158967Z",
     "shell.execute_reply": "2020-10-07T09:54:51.158574Z"
    },
    "papermill": {
     "duration": 0.061007,
     "end_time": "2020-10-07T09:54:51.159044",
     "exception": false,
     "start_time": "2020-10-07T09:54:51.098037",
     "status": "completed"
    },
    "tags": []
   },
   "outputs": [
    {
     "name": "stdout",
     "output_type": "stream",
     "text": [
      "Handled missing values successfully.\n"
     ]
    }
   ],
   "source": [
    "#majority of the values are \"Private\". Lets fill the missing values as \"Private\".\n",
    "df.workclass.fillna(\"Private\", inplace=True)\n",
    "\n",
    "df.occupation.fillna(method='bfill', inplace=True)\n",
    "\n",
    "#majority of the values are \"United-States\". Lets fill the missing values as \"United-States\".\n",
    "df['native.country'].fillna(\"United-States\", inplace=True)\n",
    "\n",
    "print(\"Handled missing values successfully.\")"
   ]
  },
  {
   "cell_type": "code",
   "execution_count": 21,
   "metadata": {
    "execution": {
     "iopub.execute_input": "2020-10-07T09:54:51.250287Z",
     "iopub.status.busy": "2020-10-07T09:54:51.249784Z",
     "iopub.status.idle": "2020-10-07T09:54:51.252325Z",
     "shell.execute_reply": "2020-10-07T09:54:51.252691Z"
    },
    "papermill": {
     "duration": 0.050463,
     "end_time": "2020-10-07T09:54:51.252814",
     "exception": false,
     "start_time": "2020-10-07T09:54:51.202351",
     "status": "completed"
    },
    "tags": []
   },
   "outputs": [],
   "source": [
    "from sklearn.preprocessing import LabelEncoder\n",
    "from sklearn.utils import column_or_1d\n",
    "\n",
    "class MyLabelEncoder(LabelEncoder):\n",
    "\n",
    "    def fit(self, y, arr=[]):\n",
    "        y = column_or_1d(y, warn=True)\n",
    "        if arr == []:\n",
    "            arr=y\n",
    "        self.classes_ = pd.Series(arr).unique()\n",
    "        return self\n",
    "\n",
    "le = MyLabelEncoder()"
   ]
  },
  {
   "cell_type": "markdown",
   "metadata": {
    "papermill": {
     "duration": 0.042666,
     "end_time": "2020-10-07T09:54:51.338803",
     "exception": false,
     "start_time": "2020-10-07T09:54:51.296137",
     "status": "completed"
    },
    "tags": []
   },
   "source": [
    "### Feature Engineering and Encoding the columns"
   ]
  },
  {
   "cell_type": "code",
   "execution_count": 22,
   "metadata": {
    "execution": {
     "iopub.execute_input": "2020-10-07T09:54:51.477396Z",
     "iopub.status.busy": "2020-10-07T09:54:51.457465Z",
     "iopub.status.idle": "2020-10-07T09:54:51.606501Z",
     "shell.execute_reply": "2020-10-07T09:54:51.607084Z"
    },
    "papermill": {
     "duration": 0.225192,
     "end_time": "2020-10-07T09:54:51.607208",
     "exception": false,
     "start_time": "2020-10-07T09:54:51.382016",
     "status": "completed"
    },
    "tags": []
   },
   "outputs": [
    {
     "name": "stdout",
     "output_type": "stream",
     "text": [
      "Encoding complete.\n"
     ]
    }
   ],
   "source": [
    "# age_enc = pd.cut(df.age, bins=(0,25,45,65,100), labels=(0,1,2,3))\n",
    "df['age_enc'] = df.age.apply(lambda x: 1 if x > 30 else 0)\n",
    "\n",
    "def prep_workclass(x):\n",
    "    if x == 'Never-worked' or x == 'Without-pay':\n",
    "        return 0\n",
    "    elif x == 'Private':\n",
    "        return 1\n",
    "    elif x == 'State-gov' or x == 'Local-gov' or x == 'Federal-gov':\n",
    "        return 2\n",
    "    elif x == 'Self-emp-not-inc':\n",
    "        return 3\n",
    "    else:\n",
    "        return 4\n",
    "\n",
    "df['workclass_enc'] = df.workclass.apply(prep_workclass)\n",
    "\n",
    "df['fnlwgt_enc'] = df.fnlwgt.apply(lambda x: 0 if x>200000 else 1)\n",
    "\n",
    "le.fit(df.education, arr=['Preschool', '1st-4th', '5th-6th', '7th-8th', '9th','10th', '11th', '12th', \n",
    "                                             'HS-grad', 'Prof-school', 'Assoc-acdm', 'Assoc-voc', 'Some-college', 'Bachelors', 'Masters', 'Doctorate'])\n",
    "df['education_enc'] = le.transform(df.education)\n",
    "\n",
    "\n",
    "df['education.num_enc'] = df['education.num'].apply(lambda x: 1 if x>=9 else 0)\n",
    "\n",
    "df['marital.status_enc'] = df['marital.status'].apply(lambda x: 1 if x=='Married-civ-spouse' or x == 'Married-AF-spouse' else 0)\n",
    "\n",
    "def prep_occupation(x):\n",
    "    if x in ['Prof-specialty', 'Exec-managerial', 'Tech-support', 'Protective-serv']:\n",
    "        return 2\n",
    "    elif x in ['Sales', 'Craft-repair']:\n",
    "        return 1\n",
    "    else:\n",
    "        return 0\n",
    "\n",
    "df['occupation_enc'] = df.occupation.apply(prep_occupation)\n",
    "\n",
    "df['relationship_enc'] = df.relationship.apply(lambda x: 1 if x in ['Husband', 'Wife'] else 0)\n",
    "\n",
    "df['race_enc'] = df.race.apply(lambda x: 1 if x=='White' else 0)\n",
    "\n",
    "df['sex_enc'] = df.sex.apply(lambda x: 1 if x=='Male' else 0)\n",
    "\n",
    "df['capital.gain_enc'] = pd.cut(df[\"capital.gain\"], \n",
    "                                bins=[-1,0,df[df[\"capital.gain\"]>0][\"capital.gain\"].median(), df[\"capital.gain\"].max()], labels=(0,1,2)).astype('int64')\n",
    "\n",
    "df['capital.loss_enc'] = pd.cut(df[\"capital.loss\"], \n",
    "                                bins=[-1,0,df[df[\"capital.loss\"]>0][\"capital.loss\"].median(), df[\"capital.loss\"].max()], labels=(0,1,2)).astype('int64')\n",
    "\n",
    "# hpw_enc = pd.cut(df['hours.per.week'], bins= (0,30,40,53,168), labels=(0,1,2,3))\n",
    "df['hours.per.week_enc'] = pd.qcut(df['hours.per.week'], q=5, labels=(0,1,2,3), duplicates='drop').astype('int64')\n",
    "\n",
    "df['native.country_enc'] = df['native.country'].apply(lambda x: 1 if x=='United-States' else 0)\n",
    "\n",
    "df['income_enc'] = df.income.apply(lambda x: 1 if x==\">50K\" else 0)\n",
    "\n",
    "print(\"Encoding complete.\")"
   ]
  },
  {
   "cell_type": "code",
   "execution_count": 23,
   "metadata": {
    "execution": {
     "iopub.execute_input": "2020-10-07T09:54:51.723591Z",
     "iopub.status.busy": "2020-10-07T09:54:51.723148Z",
     "iopub.status.idle": "2020-10-07T09:54:51.762396Z",
     "shell.execute_reply": "2020-10-07T09:54:51.762743Z"
    },
    "papermill": {
     "duration": 0.096552,
     "end_time": "2020-10-07T09:54:51.762848",
     "exception": false,
     "start_time": "2020-10-07T09:54:51.666296",
     "status": "completed"
    },
    "tags": []
   },
   "outputs": [
    {
     "name": "stdout",
     "output_type": "stream",
     "text": [
      "<class 'pandas.core.frame.DataFrame'>\n",
      "RangeIndex: 32561 entries, 0 to 32560\n",
      "Data columns (total 9 columns):\n",
      " #   Column          Non-Null Count  Dtype \n",
      "---  ------          --------------  ----- \n",
      " 0   workclass       32561 non-null  object\n",
      " 1   education       32561 non-null  object\n",
      " 2   marital.status  32561 non-null  object\n",
      " 3   occupation      32561 non-null  object\n",
      " 4   relationship    32561 non-null  object\n",
      " 5   race            32561 non-null  object\n",
      " 6   sex             32561 non-null  object\n",
      " 7   native.country  32561 non-null  object\n",
      " 8   income          32561 non-null  object\n",
      "dtypes: object(9)\n",
      "memory usage: 2.2+ MB\n"
     ]
    }
   ],
   "source": [
    "df.select_dtypes(\"object\").info()"
   ]
  },
  {
   "cell_type": "code",
   "execution_count": 24,
   "metadata": {
    "execution": {
     "iopub.execute_input": "2020-10-07T09:54:51.858644Z",
     "iopub.status.busy": "2020-10-07T09:54:51.858177Z",
     "iopub.status.idle": "2020-10-07T09:54:51.861141Z",
     "shell.execute_reply": "2020-10-07T09:54:51.860675Z"
    },
    "papermill": {
     "duration": 0.053599,
     "end_time": "2020-10-07T09:54:51.861222",
     "exception": false,
     "start_time": "2020-10-07T09:54:51.807623",
     "status": "completed"
    },
    "tags": []
   },
   "outputs": [],
   "source": [
    "#dropping encoded columns - education, sex, income\n",
    "df.drop(['education', 'sex', 'income'], 1, inplace=True)"
   ]
  },
  {
   "cell_type": "markdown",
   "metadata": {
    "papermill": {
     "duration": 0.043631,
     "end_time": "2020-10-07T09:54:51.951752",
     "exception": false,
     "start_time": "2020-10-07T09:54:51.908121",
     "status": "completed"
    },
    "tags": []
   },
   "source": [
    "### Label Encoding without Feature Engineering"
   ]
  },
  {
   "cell_type": "code",
   "execution_count": 25,
   "metadata": {
    "execution": {
     "iopub.execute_input": "2020-10-07T09:54:52.060536Z",
     "iopub.status.busy": "2020-10-07T09:54:52.054895Z",
     "iopub.status.idle": "2020-10-07T09:54:52.085840Z",
     "shell.execute_reply": "2020-10-07T09:54:52.085367Z"
    },
    "papermill": {
     "duration": 0.090173,
     "end_time": "2020-10-07T09:54:52.085953",
     "exception": false,
     "start_time": "2020-10-07T09:54:51.995780",
     "status": "completed"
    },
    "tags": []
   },
   "outputs": [],
   "source": [
    "for feature in df.select_dtypes(\"object\").columns:\n",
    "    df[feature]=le.fit_transform(df[feature])"
   ]
  },
  {
   "cell_type": "markdown",
   "metadata": {
    "papermill": {
     "duration": 0.043947,
     "end_time": "2020-10-07T09:54:52.174155",
     "exception": false,
     "start_time": "2020-10-07T09:54:52.130208",
     "status": "completed"
    },
    "tags": []
   },
   "source": [
    "### Feature Selection"
   ]
  },
  {
   "cell_type": "code",
   "execution_count": 26,
   "metadata": {
    "execution": {
     "iopub.execute_input": "2020-10-07T09:54:52.268424Z",
     "iopub.status.busy": "2020-10-07T09:54:52.267968Z",
     "iopub.status.idle": "2020-10-07T09:54:52.280322Z",
     "shell.execute_reply": "2020-10-07T09:54:52.279806Z"
    },
    "papermill": {
     "duration": 0.061966,
     "end_time": "2020-10-07T09:54:52.280434",
     "exception": false,
     "start_time": "2020-10-07T09:54:52.218468",
     "status": "completed"
    },
    "tags": []
   },
   "outputs": [
    {
     "name": "stdout",
     "output_type": "stream",
     "text": [
      "<class 'pandas.core.frame.DataFrame'>\n",
      "RangeIndex: 32561 entries, 0 to 32560\n",
      "Data columns (total 27 columns):\n",
      " #   Column              Non-Null Count  Dtype\n",
      "---  ------              --------------  -----\n",
      " 0   age                 32561 non-null  int64\n",
      " 1   workclass           32561 non-null  int64\n",
      " 2   fnlwgt              32561 non-null  int64\n",
      " 3   education.num       32561 non-null  int64\n",
      " 4   marital.status      32561 non-null  int64\n",
      " 5   occupation          32561 non-null  int64\n",
      " 6   relationship        32561 non-null  int64\n",
      " 7   race                32561 non-null  int64\n",
      " 8   capital.gain        32561 non-null  int64\n",
      " 9   capital.loss        32561 non-null  int64\n",
      " 10  hours.per.week      32561 non-null  int64\n",
      " 11  native.country      32561 non-null  int64\n",
      " 12  age_enc             32561 non-null  int64\n",
      " 13  workclass_enc       32561 non-null  int64\n",
      " 14  fnlwgt_enc          32561 non-null  int64\n",
      " 15  education_enc       32561 non-null  int64\n",
      " 16  education.num_enc   32561 non-null  int64\n",
      " 17  marital.status_enc  32561 non-null  int64\n",
      " 18  occupation_enc      32561 non-null  int64\n",
      " 19  relationship_enc    32561 non-null  int64\n",
      " 20  race_enc            32561 non-null  int64\n",
      " 21  sex_enc             32561 non-null  int64\n",
      " 22  capital.gain_enc    32561 non-null  int64\n",
      " 23  capital.loss_enc    32561 non-null  int64\n",
      " 24  hours.per.week_enc  32561 non-null  int64\n",
      " 25  native.country_enc  32561 non-null  int64\n",
      " 26  income_enc          32561 non-null  int64\n",
      "dtypes: int64(27)\n",
      "memory usage: 6.7 MB\n"
     ]
    }
   ],
   "source": [
    "df.info()"
   ]
  },
  {
   "cell_type": "code",
   "execution_count": 27,
   "metadata": {
    "execution": {
     "iopub.execute_input": "2020-10-07T09:54:52.378249Z",
     "iopub.status.busy": "2020-10-07T09:54:52.377736Z",
     "iopub.status.idle": "2020-10-07T09:54:52.586429Z",
     "shell.execute_reply": "2020-10-07T09:54:52.586794Z"
    },
    "papermill": {
     "duration": 0.260083,
     "end_time": "2020-10-07T09:54:52.586909",
     "exception": false,
     "start_time": "2020-10-07T09:54:52.326826",
     "status": "completed"
    },
    "tags": []
   },
   "outputs": [
    {
     "data": {
      "text/plain": [
       "<BarContainer object of 26 artists>"
      ]
     },
     "execution_count": 27,
     "metadata": {},
     "output_type": "execute_result"
    },
    {
     "data": {
      "image/png": "[encoded data removed]",
      "text/plain": [
       "<Figure size 720x432 with 1 Axes>"
      ]
     },
     "metadata": {},
     "output_type": "display_data"
    }
   ],
   "source": [
    "#Visualizing the pearson correlation with the target class\n",
    "pcorr = df.drop('income_enc',1).corrwith(df.income_enc)\n",
    "plt.figure(figsize=(10,6))\n",
    "plt.title(\"Pearson Correlation of Features with Income\")\n",
    "plt.xlabel(\"Features\")\n",
    "plt.ylabel(\"Correlation Coeff\")\n",
    "plt.xticks(rotation=90)\n",
    "plt.bar(pcorr.index, list(map(abs,pcorr.values)))"
   ]
  },
  {
   "cell_type": "markdown",
   "metadata": {
    "papermill": {
     "duration": 0.045928,
     "end_time": "2020-10-07T09:54:52.679211",
     "exception": false,
     "start_time": "2020-10-07T09:54:52.633283",
     "status": "completed"
    },
    "tags": []
   },
   "source": [
    "From the pearson correlation plot, we can see that correlation of few columns are very **low** with the target column, so, we ll drop them."
   ]
  },
  {
   "cell_type": "code",
   "execution_count": 28,
   "metadata": {
    "execution": {
     "iopub.execute_input": "2020-10-07T09:54:52.778387Z",
     "iopub.status.busy": "2020-10-07T09:54:52.777940Z",
     "iopub.status.idle": "2020-10-07T09:54:52.780569Z",
     "shell.execute_reply": "2020-10-07T09:54:52.780218Z"
    },
    "papermill": {
     "duration": 0.055081,
     "end_time": "2020-10-07T09:54:52.780649",
     "exception": false,
     "start_time": "2020-10-07T09:54:52.725568",
     "status": "completed"
    },
    "tags": []
   },
   "outputs": [],
   "source": [
    "df.drop(['workclass', 'fnlwgt','occupation', 'race', 'native.country', 'fnlwgt_enc', 'race_enc', 'native.country_enc'], 1, inplace=True)"
   ]
  },
  {
   "cell_type": "code",
   "execution_count": 29,
   "metadata": {
    "execution": {
     "iopub.execute_input": "2020-10-07T09:54:52.878661Z",
     "iopub.status.busy": "2020-10-07T09:54:52.878192Z",
     "iopub.status.idle": "2020-10-07T09:54:53.156556Z",
     "shell.execute_reply": "2020-10-07T09:54:53.156178Z"
    },
    "papermill": {
     "duration": 0.329303,
     "end_time": "2020-10-07T09:54:53.156641",
     "exception": false,
     "start_time": "2020-10-07T09:54:52.827338",
     "status": "completed"
    },
    "tags": []
   },
   "outputs": [
    {
     "data": {
      "text/plain": [
       "<matplotlib.axes._subplots.AxesSubplot at 0x7f26222b5790>"
      ]
     },
     "execution_count": 29,
     "metadata": {},
     "output_type": "execute_result"
    },
    {
     "data": {
      "image/png": "[encoded data removed]",
      "text/plain": [
       "<Figure size 432x288 with 2 Axes>"
      ]
     },
     "metadata": {},
     "output_type": "display_data"
    }
   ],
   "source": [
    "sns.heatmap(df.corr().apply(abs))"
   ]
  },
  {
   "cell_type": "markdown",
   "metadata": {
    "papermill": {
     "duration": 0.046714,
     "end_time": "2020-10-07T09:54:53.251312",
     "exception": false,
     "start_time": "2020-10-07T09:54:53.204598",
     "status": "completed"
    },
    "tags": []
   },
   "source": [
    "**Dropping redundant features**"
   ]
  },
  {
   "cell_type": "markdown",
   "metadata": {
    "papermill": {
     "duration": 0.046398,
     "end_time": "2020-10-07T09:54:53.344733",
     "exception": false,
     "start_time": "2020-10-07T09:54:53.298335",
     "status": "completed"
    },
    "tags": []
   },
   "source": [
    "We can see that **education_enc, education.num_enc and education.num** as well as **relationship_enc and marital.status_enc** have **high correlation**. So, we will only keep one of them based on their correlation with income_enc.\n",
    "\n",
    "We also have some redundant feautres as we have engineered features from them(age, capital.gain, etc.)."
   ]
  },
  {
   "cell_type": "code",
   "execution_count": 30,
   "metadata": {
    "execution": {
     "iopub.execute_input": "2020-10-07T09:54:53.445663Z",
     "iopub.status.busy": "2020-10-07T09:54:53.445227Z",
     "iopub.status.idle": "2020-10-07T09:54:53.447555Z",
     "shell.execute_reply": "2020-10-07T09:54:53.447194Z"
    },
    "papermill": {
     "duration": 0.055815,
     "end_time": "2020-10-07T09:54:53.447634",
     "exception": false,
     "start_time": "2020-10-07T09:54:53.391819",
     "status": "completed"
    },
    "tags": []
   },
   "outputs": [],
   "source": [
    "df.drop(['age', 'education.num_enc', 'education_enc', 'marital.status_enc', 'capital.gain', 'capital.loss', 'hours.per.week'], 1, inplace = True)"
   ]
  },
  {
   "cell_type": "code",
   "execution_count": 31,
   "metadata": {
    "execution": {
     "iopub.execute_input": "2020-10-07T09:54:53.546903Z",
     "iopub.status.busy": "2020-10-07T09:54:53.546238Z",
     "iopub.status.idle": "2020-10-07T09:54:53.554606Z",
     "shell.execute_reply": "2020-10-07T09:54:53.554009Z"
    },
    "papermill": {
     "duration": 0.059492,
     "end_time": "2020-10-07T09:54:53.554738",
     "exception": false,
     "start_time": "2020-10-07T09:54:53.495246",
     "status": "completed"
    },
    "tags": []
   },
   "outputs": [
    {
     "name": "stdout",
     "output_type": "stream",
     "text": [
      "<class 'pandas.core.frame.DataFrame'>\n",
      "RangeIndex: 32561 entries, 0 to 32560\n",
      "Data columns (total 12 columns):\n",
      " #   Column              Non-Null Count  Dtype\n",
      "---  ------              --------------  -----\n",
      " 0   education.num       32561 non-null  int64\n",
      " 1   marital.status      32561 non-null  int64\n",
      " 2   relationship        32561 non-null  int64\n",
      " 3   age_enc             32561 non-null  int64\n",
      " 4   workclass_enc       32561 non-null  int64\n",
      " 5   occupation_enc      32561 non-null  int64\n",
      " 6   relationship_enc    32561 non-null  int64\n",
      " 7   sex_enc             32561 non-null  int64\n",
      " 8   capital.gain_enc    32561 non-null  int64\n",
      " 9   capital.loss_enc    32561 non-null  int64\n",
      " 10  hours.per.week_enc  32561 non-null  int64\n",
      " 11  income_enc          32561 non-null  int64\n",
      "dtypes: int64(12)\n",
      "memory usage: 3.0 MB\n"
     ]
    }
   ],
   "source": [
    "df.info()"
   ]
  },
  {
   "cell_type": "code",
   "execution_count": 32,
   "metadata": {
    "execution": {
     "iopub.execute_input": "2020-10-07T09:54:53.665647Z",
     "iopub.status.busy": "2020-10-07T09:54:53.665213Z",
     "iopub.status.idle": "2020-10-07T09:54:53.667823Z",
     "shell.execute_reply": "2020-10-07T09:54:53.667443Z"
    },
    "papermill": {
     "duration": 0.055256,
     "end_time": "2020-10-07T09:54:53.667898",
     "exception": false,
     "start_time": "2020-10-07T09:54:53.612642",
     "status": "completed"
    },
    "tags": []
   },
   "outputs": [],
   "source": [
    "X = df.drop('income_enc', 1)\n",
    "y = df.income_enc"
   ]
  },
  {
   "cell_type": "markdown",
   "metadata": {
    "papermill": {
     "duration": 0.04719,
     "end_time": "2020-10-07T09:54:53.762700",
     "exception": false,
     "start_time": "2020-10-07T09:54:53.715510",
     "status": "completed"
    },
    "tags": []
   },
   "source": [
    "### Train Test Split (3:1)"
   ]
  },
  {
   "cell_type": "code",
   "execution_count": 33,
   "metadata": {
    "execution": {
     "iopub.execute_input": "2020-10-07T09:54:53.861414Z",
     "iopub.status.busy": "2020-10-07T09:54:53.860974Z",
     "iopub.status.idle": "2020-10-07T09:54:53.878512Z",
     "shell.execute_reply": "2020-10-07T09:54:53.878868Z"
    },
    "papermill": {
     "duration": 0.069299,
     "end_time": "2020-10-07T09:54:53.878977",
     "exception": false,
     "start_time": "2020-10-07T09:54:53.809678",
     "status": "completed"
    },
    "tags": []
   },
   "outputs": [],
   "source": [
    "X_train, X_test, y_train, y_test = train_test_split(X, y, test_size=0.25, random_state=42, stratify=y)"
   ]
  },
  {
   "cell_type": "code",
   "execution_count": 34,
   "metadata": {
    "execution": {
     "iopub.execute_input": "2020-10-07T09:54:53.978560Z",
     "iopub.status.busy": "2020-10-07T09:54:53.978116Z",
     "iopub.status.idle": "2020-10-07T09:54:53.981837Z",
     "shell.execute_reply": "2020-10-07T09:54:53.981240Z"
    },
    "papermill": {
     "duration": 0.05513,
     "end_time": "2020-10-07T09:54:53.981913",
     "exception": false,
     "start_time": "2020-10-07T09:54:53.926783",
     "status": "completed"
    },
    "tags": []
   },
   "outputs": [
    {
     "name": "stdout",
     "output_type": "stream",
     "text": [
      "No. of rows in training data: 24420\n",
      "No. of rows in testing data: 8141\n"
     ]
    }
   ],
   "source": [
    "print(\"No. of rows in training data:\",X_train.shape[0])\n",
    "print(\"No. of rows in testing data:\",X_test.shape[0])"
   ]
  },
  {
   "cell_type": "markdown",
   "metadata": {
    "papermill": {
     "duration": 0.049721,
     "end_time": "2020-10-07T09:54:54.093597",
     "exception": false,
     "start_time": "2020-10-07T09:54:54.043876",
     "status": "completed"
    },
    "tags": []
   },
   "source": [
    "### Random Over Sampling"
   ]
  },
  {
   "cell_type": "markdown",
   "metadata": {
    "papermill": {
     "duration": 0.049607,
     "end_time": "2020-10-07T09:54:54.192950",
     "exception": false,
     "start_time": "2020-10-07T09:54:54.143343",
     "status": "completed"
    },
    "tags": []
   },
   "source": [
    "*We can see the class imbalance in our target. This results in models that have poor predictive performance, specifically for the minority class. So, we need to random over sampling*"
   ]
  },
  {
   "cell_type": "code",
   "execution_count": 35,
   "metadata": {
    "execution": {
     "iopub.execute_input": "2020-10-07T09:54:54.298593Z",
     "iopub.status.busy": "2020-10-07T09:54:54.297914Z",
     "iopub.status.idle": "2020-10-07T09:54:54.324311Z",
     "shell.execute_reply": "2020-10-07T09:54:54.323676Z"
    },
    "papermill": {
     "duration": 0.080453,
     "end_time": "2020-10-07T09:54:54.324422",
     "exception": false,
     "start_time": "2020-10-07T09:54:54.243969",
     "status": "completed"
    },
    "tags": []
   },
   "outputs": [],
   "source": [
    "oversample = RandomOverSampler(sampling_strategy='minority') #100% oversampling\n",
    "X_over, y_over = oversample.fit_resample(X_train, y_train)"
   ]
  },
  {
   "cell_type": "code",
   "execution_count": 36,
   "metadata": {
    "execution": {
     "iopub.execute_input": "2020-10-07T09:54:54.474663Z",
     "iopub.status.busy": "2020-10-07T09:54:54.474225Z",
     "iopub.status.idle": "2020-10-07T09:54:54.479502Z",
     "shell.execute_reply": "2020-10-07T09:54:54.479850Z"
    },
    "papermill": {
     "duration": 0.082631,
     "end_time": "2020-10-07T09:54:54.479957",
     "exception": false,
     "start_time": "2020-10-07T09:54:54.397326",
     "status": "completed"
    },
    "tags": []
   },
   "outputs": [
    {
     "data": {
      "text/plain": [
       "1    18539\n",
       "0    18539\n",
       "Name: income_enc, dtype: int64"
      ]
     },
     "execution_count": 36,
     "metadata": {},
     "output_type": "execute_result"
    }
   ],
   "source": [
    "y_over.value_counts()"
   ]
  },
  {
   "cell_type": "code",
   "execution_count": 37,
   "metadata": {
    "execution": {
     "iopub.execute_input": "2020-10-07T09:54:54.581672Z",
     "iopub.status.busy": "2020-10-07T09:54:54.581059Z",
     "iopub.status.idle": "2020-10-07T09:54:54.600345Z",
     "shell.execute_reply": "2020-10-07T09:54:54.599965Z"
    },
    "papermill": {
     "duration": 0.071437,
     "end_time": "2020-10-07T09:54:54.600431",
     "exception": false,
     "start_time": "2020-10-07T09:54:54.528994",
     "status": "completed"
    },
    "tags": []
   },
   "outputs": [],
   "source": [
    "oversample = RandomOverSampler(sampling_strategy=0.75) #75% oversampling\n",
    "X_75_over, y_75_over = oversample.fit_resample(X_train, y_train)"
   ]
  },
  {
   "cell_type": "code",
   "execution_count": 38,
   "metadata": {
    "execution": {
     "iopub.execute_input": "2020-10-07T09:54:54.700589Z",
     "iopub.status.busy": "2020-10-07T09:54:54.700151Z",
     "iopub.status.idle": "2020-10-07T09:54:54.705916Z",
     "shell.execute_reply": "2020-10-07T09:54:54.705547Z"
    },
    "papermill": {
     "duration": 0.056654,
     "end_time": "2020-10-07T09:54:54.705989",
     "exception": false,
     "start_time": "2020-10-07T09:54:54.649335",
     "status": "completed"
    },
    "tags": []
   },
   "outputs": [
    {
     "data": {
      "text/plain": [
       "0    18539\n",
       "1    13904\n",
       "Name: income_enc, dtype: int64"
      ]
     },
     "execution_count": 38,
     "metadata": {},
     "output_type": "execute_result"
    }
   ],
   "source": [
    "y_75_over.value_counts()"
   ]
  },
  {
   "cell_type": "markdown",
   "metadata": {
    "papermill": {
     "duration": 0.04897,
     "end_time": "2020-10-07T09:54:54.803888",
     "exception": false,
     "start_time": "2020-10-07T09:54:54.754918",
     "status": "completed"
    },
    "tags": []
   },
   "source": [
    "## Model Preparation"
   ]
  },
  {
   "cell_type": "code",
   "execution_count": 39,
   "metadata": {
    "execution": {
     "iopub.execute_input": "2020-10-07T09:54:54.908949Z",
     "iopub.status.busy": "2020-10-07T09:54:54.908485Z",
     "iopub.status.idle": "2020-10-07T09:54:55.648106Z",
     "shell.execute_reply": "2020-10-07T09:54:55.647548Z"
    },
    "papermill": {
     "duration": 0.795674,
     "end_time": "2020-10-07T09:54:55.648209",
     "exception": false,
     "start_time": "2020-10-07T09:54:54.852535",
     "status": "completed"
    },
    "tags": []
   },
   "outputs": [],
   "source": [
    "#Model Imports\n",
    "from sklearn.model_selection import StratifiedKFold, cross_val_score\n",
    "from sklearn.preprocessing import StandardScaler\n",
    "from sklearn.pipeline import make_pipeline\n",
    "from sklearn.metrics import classification_report, confusion_matrix\n",
    "\n",
    "from sklearn.svm import SVC\n",
    "from sklearn.linear_model import LogisticRegression\n",
    "from sklearn.neighbors import KNeighborsClassifier\n",
    "from sklearn.tree import DecisionTreeClassifier\n",
    "from sklearn.ensemble import AdaBoostClassifier, ExtraTreesClassifier, GradientBoostingClassifier, RandomForestClassifier, StackingClassifier\n",
    "from xgboost import XGBClassifier\n",
    "from lightgbm import LGBMClassifier\n",
    "from sklearn.model_selection import GridSearchCV"
   ]
  },
  {
   "cell_type": "code",
   "execution_count": 40,
   "metadata": {
    "execution": {
     "iopub.execute_input": "2020-10-07T09:54:55.803006Z",
     "iopub.status.busy": "2020-10-07T09:54:55.802549Z",
     "iopub.status.idle": "2020-10-07T09:54:55.804665Z",
     "shell.execute_reply": "2020-10-07T09:54:55.805062Z"
    },
    "papermill": {
     "duration": 0.077708,
     "end_time": "2020-10-07T09:54:55.805156",
     "exception": false,
     "start_time": "2020-10-07T09:54:55.727448",
     "status": "completed"
    },
    "tags": []
   },
   "outputs": [],
   "source": [
    "seed= 42"
   ]
  },
  {
   "cell_type": "code",
   "execution_count": 41,
   "metadata": {
    "execution": {
     "iopub.execute_input": "2020-10-07T09:54:55.909532Z",
     "iopub.status.busy": "2020-10-07T09:54:55.909071Z",
     "iopub.status.idle": "2020-10-07T09:54:55.911547Z",
     "shell.execute_reply": "2020-10-07T09:54:55.911129Z"
    },
    "papermill": {
     "duration": 0.056635,
     "end_time": "2020-10-07T09:54:55.911616",
     "exception": false,
     "start_time": "2020-10-07T09:54:55.854981",
     "status": "completed"
    },
    "tags": []
   },
   "outputs": [],
   "source": [
    "models = {\n",
    "    'LR':LogisticRegression(random_state=seed),\n",
    "    'SVC':SVC(random_state=seed),\n",
    "    'KNN':KNeighborsClassifier(),\n",
    "    'AB':AdaBoostClassifier(random_state=seed),\n",
    "    'ET':ExtraTreesClassifier(random_state=seed),\n",
    "    'GB':GradientBoostingClassifier(random_state=seed),\n",
    "    'RF':RandomForestClassifier(random_state=seed),\n",
    "    'XGB':XGBClassifier(random_state=seed),\n",
    "    'LGBM':LGBMClassifier(random_state=seed)\n",
    "    }"
   ]
  },
  {
   "cell_type": "code",
   "execution_count": 42,
   "metadata": {
    "execution": {
     "iopub.execute_input": "2020-10-07T09:54:56.014699Z",
     "iopub.status.busy": "2020-10-07T09:54:56.014204Z",
     "iopub.status.idle": "2020-10-07T09:54:56.016739Z",
     "shell.execute_reply": "2020-10-07T09:54:56.017072Z"
    },
    "papermill": {
     "duration": 0.056154,
     "end_time": "2020-10-07T09:54:56.017161",
     "exception": false,
     "start_time": "2020-10-07T09:54:55.961007",
     "status": "completed"
    },
    "tags": []
   },
   "outputs": [],
   "source": [
    "# evaluate a give model using cross-validation\n",
    "def evaluate_model(model):\n",
    "    cv = StratifiedKFold(shuffle=True, random_state=seed)\n",
    "    scores = cross_val_score(model, X_train, y_train, scoring='accuracy', cv=cv, n_jobs=-1, error_score='raise')\n",
    "    return scores"
   ]
  },
  {
   "cell_type": "code",
   "execution_count": 43,
   "metadata": {
    "execution": {
     "iopub.execute_input": "2020-10-07T09:54:56.122305Z",
     "iopub.status.busy": "2020-10-07T09:54:56.121824Z",
     "iopub.status.idle": "2020-10-07T09:55:30.697075Z",
     "shell.execute_reply": "2020-10-07T09:55:30.696600Z"
    },
    "papermill": {
     "duration": 34.630384,
     "end_time": "2020-10-07T09:55:30.697153",
     "exception": false,
     "start_time": "2020-10-07T09:54:56.066769",
     "status": "completed"
    },
    "tags": []
   },
   "outputs": [
    {
     "name": "stdout",
     "output_type": "stream",
     "text": [
      "*LR 0.846 (0.003)\n",
      "*SVC 0.846 (0.002)\n",
      "*KNN 0.833 (0.005)\n",
      "*AB 0.852 (0.003)\n",
      "*ET 0.842 (0.003)\n",
      "*GB 0.854 (0.002)\n",
      "*RF 0.842 (0.002)\n",
      "*XGB 0.849 (0.002)\n",
      "*LGBM 0.852 (0.002)\n"
     ]
    }
   ],
   "source": [
    "# evaluate the models and store results\n",
    "results, names = list(), list()\n",
    "for name, model in models.items():\n",
    "    scores = evaluate_model(model)\n",
    "    results.append(scores)\n",
    "    names.append(name)\n",
    "    print('*%s %.3f (%.3f)' % (name, mean(scores), std(scores)))"
   ]
  },
  {
   "cell_type": "code",
   "execution_count": 44,
   "metadata": {
    "execution": {
     "iopub.execute_input": "2020-10-07T09:55:30.812468Z",
     "iopub.status.busy": "2020-10-07T09:55:30.808572Z",
     "iopub.status.idle": "2020-10-07T09:55:30.962560Z",
     "shell.execute_reply": "2020-10-07T09:55:30.962073Z"
    },
    "papermill": {
     "duration": 0.213275,
     "end_time": "2020-10-07T09:55:30.962659",
     "exception": false,
     "start_time": "2020-10-07T09:55:30.749384",
     "status": "completed"
    },
    "tags": []
   },
   "outputs": [
    {
     "data": {
      "image/png": "[encoded data removed]",
      "text/plain": [
       "<Figure size 432x288 with 1 Axes>"
      ]
     },
     "metadata": {},
     "output_type": "display_data"
    }
   ],
   "source": [
    "plt.boxplot(results, labels=names, showmeans=True)\n",
    "plt.show()"
   ]
  }
 ],
 "metadata": {
  "kernelspec": {
   "display_name": "Python 3",
   "language": "python",
   "name": "python3"
  },
  "language_info": {
   "codemirror_mode": {
    "name": "ipython",
    "version": 3
   },
   "file_extension": ".py",
   "mimetype": "text/x-python",
   "name": "python",
   "nbconvert_exporter": "python",
   "pygments_lexer": "ipython3",
   "version": "3.7.6"
  },
  "papermill": {
   "duration": 50.981818,
   "end_time": "2020-10-07T09:55:31.148345",
   "environment_variables": {},
   "exception": null,
   "input_path": "__notebook__.ipynb",
   "output_path": "__notebook__.ipynb",
   "parameters": {},
   "start_time": "2020-10-07T09:54:40.166527",
   "version": "2.1.0"
  }
 },
 "nbformat": 4,
 "nbformat_minor": 4
}
